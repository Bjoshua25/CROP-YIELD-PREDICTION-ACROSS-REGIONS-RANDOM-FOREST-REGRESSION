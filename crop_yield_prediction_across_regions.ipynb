{
  "cells": [
    {
      "cell_type": "markdown",
      "metadata": {
        "id": "ITqrvAqq8xSC"
      },
      "source": [
        "# Crop Yield Prediction accross Different Regions"
      ]
    },
    {
      "cell_type": "markdown",
      "metadata": {
        "id": "avfZ5W83p_w1"
      },
      "source": [
        "### Import libraries and dataset"
      ]
    },
    {
      "cell_type": "code",
      "execution_count": 1,
      "metadata": {
        "id": "tkbFCf19p_w3"
      },
      "outputs": [],
      "source": [
        "import numpy as np\n",
        "import pandas as pd\n",
        "from sklearn.preprocessing import StandardScaler\n",
        "from sklearn.model_selection import train_test_split\n",
        "from sklearn.ensemble import RandomForestRegressor\n",
        "from sklearn import metrics"
      ]
    },
    {
      "cell_type": "code",
      "execution_count": 2,
      "metadata": {
        "colab": {
          "base_uri": "https://localhost:8080/",
          "height": 226
        },
        "id": "ky9lQdFcp_w6",
        "outputId": "a9270fd6-5569-4f25-c049-47bb731a9f91"
      },
      "outputs": [
        {
          "output_type": "execute_result",
          "data": {
            "text/plain": [
              "  Region  Temperature    Rainfall Soil_Type  Fertilizer_Usage  \\\n",
              "0   East    23.152156  803.362573    Clayey        204.792011   \n",
              "1   West    19.382419  571.567670     Sandy        256.201737   \n",
              "2  North    27.895890   -8.699637     Loamy        222.202626   \n",
              "3   East    26.741361  897.426194     Loamy        187.984090   \n",
              "4   East    19.090286  649.384694     Loamy        110.459549   \n",
              "\n",
              "   Pesticide_Usage  Irrigation Crop_Variety      Yield  \n",
              "0        20.767590           1    Variety B  40.316318  \n",
              "1        49.290242           0    Variety A  26.846639  \n",
              "2        25.316121           0    Variety C  -0.323558  \n",
              "3        17.115362           0    Variety C  45.440871  \n",
              "4        24.068804           1    Variety B  35.478118  "
            ],
            "text/html": [
              "\n",
              "  <div id=\"df-2b8b85db-7fd3-4a46-9b3c-65daf9e80fe9\" class=\"colab-df-container\">\n",
              "    <div>\n",
              "<style scoped>\n",
              "    .dataframe tbody tr th:only-of-type {\n",
              "        vertical-align: middle;\n",
              "    }\n",
              "\n",
              "    .dataframe tbody tr th {\n",
              "        vertical-align: top;\n",
              "    }\n",
              "\n",
              "    .dataframe thead th {\n",
              "        text-align: right;\n",
              "    }\n",
              "</style>\n",
              "<table border=\"1\" class=\"dataframe\">\n",
              "  <thead>\n",
              "    <tr style=\"text-align: right;\">\n",
              "      <th></th>\n",
              "      <th>Region</th>\n",
              "      <th>Temperature</th>\n",
              "      <th>Rainfall</th>\n",
              "      <th>Soil_Type</th>\n",
              "      <th>Fertilizer_Usage</th>\n",
              "      <th>Pesticide_Usage</th>\n",
              "      <th>Irrigation</th>\n",
              "      <th>Crop_Variety</th>\n",
              "      <th>Yield</th>\n",
              "    </tr>\n",
              "  </thead>\n",
              "  <tbody>\n",
              "    <tr>\n",
              "      <th>0</th>\n",
              "      <td>East</td>\n",
              "      <td>23.152156</td>\n",
              "      <td>803.362573</td>\n",
              "      <td>Clayey</td>\n",
              "      <td>204.792011</td>\n",
              "      <td>20.767590</td>\n",
              "      <td>1</td>\n",
              "      <td>Variety B</td>\n",
              "      <td>40.316318</td>\n",
              "    </tr>\n",
              "    <tr>\n",
              "      <th>1</th>\n",
              "      <td>West</td>\n",
              "      <td>19.382419</td>\n",
              "      <td>571.567670</td>\n",
              "      <td>Sandy</td>\n",
              "      <td>256.201737</td>\n",
              "      <td>49.290242</td>\n",
              "      <td>0</td>\n",
              "      <td>Variety A</td>\n",
              "      <td>26.846639</td>\n",
              "    </tr>\n",
              "    <tr>\n",
              "      <th>2</th>\n",
              "      <td>North</td>\n",
              "      <td>27.895890</td>\n",
              "      <td>-8.699637</td>\n",
              "      <td>Loamy</td>\n",
              "      <td>222.202626</td>\n",
              "      <td>25.316121</td>\n",
              "      <td>0</td>\n",
              "      <td>Variety C</td>\n",
              "      <td>-0.323558</td>\n",
              "    </tr>\n",
              "    <tr>\n",
              "      <th>3</th>\n",
              "      <td>East</td>\n",
              "      <td>26.741361</td>\n",
              "      <td>897.426194</td>\n",
              "      <td>Loamy</td>\n",
              "      <td>187.984090</td>\n",
              "      <td>17.115362</td>\n",
              "      <td>0</td>\n",
              "      <td>Variety C</td>\n",
              "      <td>45.440871</td>\n",
              "    </tr>\n",
              "    <tr>\n",
              "      <th>4</th>\n",
              "      <td>East</td>\n",
              "      <td>19.090286</td>\n",
              "      <td>649.384694</td>\n",
              "      <td>Loamy</td>\n",
              "      <td>110.459549</td>\n",
              "      <td>24.068804</td>\n",
              "      <td>1</td>\n",
              "      <td>Variety B</td>\n",
              "      <td>35.478118</td>\n",
              "    </tr>\n",
              "  </tbody>\n",
              "</table>\n",
              "</div>\n",
              "    <div class=\"colab-df-buttons\">\n",
              "\n",
              "  <div class=\"colab-df-container\">\n",
              "    <button class=\"colab-df-convert\" onclick=\"convertToInteractive('df-2b8b85db-7fd3-4a46-9b3c-65daf9e80fe9')\"\n",
              "            title=\"Convert this dataframe to an interactive table.\"\n",
              "            style=\"display:none;\">\n",
              "\n",
              "  <svg xmlns=\"http://www.w3.org/2000/svg\" height=\"24px\" viewBox=\"0 -960 960 960\">\n",
              "    <path d=\"M120-120v-720h720v720H120Zm60-500h600v-160H180v160Zm220 220h160v-160H400v160Zm0 220h160v-160H400v160ZM180-400h160v-160H180v160Zm440 0h160v-160H620v160ZM180-180h160v-160H180v160Zm440 0h160v-160H620v160Z\"/>\n",
              "  </svg>\n",
              "    </button>\n",
              "\n",
              "  <style>\n",
              "    .colab-df-container {\n",
              "      display:flex;\n",
              "      gap: 12px;\n",
              "    }\n",
              "\n",
              "    .colab-df-convert {\n",
              "      background-color: #E8F0FE;\n",
              "      border: none;\n",
              "      border-radius: 50%;\n",
              "      cursor: pointer;\n",
              "      display: none;\n",
              "      fill: #1967D2;\n",
              "      height: 32px;\n",
              "      padding: 0 0 0 0;\n",
              "      width: 32px;\n",
              "    }\n",
              "\n",
              "    .colab-df-convert:hover {\n",
              "      background-color: #E2EBFA;\n",
              "      box-shadow: 0px 1px 2px rgba(60, 64, 67, 0.3), 0px 1px 3px 1px rgba(60, 64, 67, 0.15);\n",
              "      fill: #174EA6;\n",
              "    }\n",
              "\n",
              "    .colab-df-buttons div {\n",
              "      margin-bottom: 4px;\n",
              "    }\n",
              "\n",
              "    [theme=dark] .colab-df-convert {\n",
              "      background-color: #3B4455;\n",
              "      fill: #D2E3FC;\n",
              "    }\n",
              "\n",
              "    [theme=dark] .colab-df-convert:hover {\n",
              "      background-color: #434B5C;\n",
              "      box-shadow: 0px 1px 3px 1px rgba(0, 0, 0, 0.15);\n",
              "      filter: drop-shadow(0px 1px 2px rgba(0, 0, 0, 0.3));\n",
              "      fill: #FFFFFF;\n",
              "    }\n",
              "  </style>\n",
              "\n",
              "    <script>\n",
              "      const buttonEl =\n",
              "        document.querySelector('#df-2b8b85db-7fd3-4a46-9b3c-65daf9e80fe9 button.colab-df-convert');\n",
              "      buttonEl.style.display =\n",
              "        google.colab.kernel.accessAllowed ? 'block' : 'none';\n",
              "\n",
              "      async function convertToInteractive(key) {\n",
              "        const element = document.querySelector('#df-2b8b85db-7fd3-4a46-9b3c-65daf9e80fe9');\n",
              "        const dataTable =\n",
              "          await google.colab.kernel.invokeFunction('convertToInteractive',\n",
              "                                                    [key], {});\n",
              "        if (!dataTable) return;\n",
              "\n",
              "        const docLinkHtml = 'Like what you see? Visit the ' +\n",
              "          '<a target=\"_blank\" href=https://colab.research.google.com/notebooks/data_table.ipynb>data table notebook</a>'\n",
              "          + ' to learn more about interactive tables.';\n",
              "        element.innerHTML = '';\n",
              "        dataTable['output_type'] = 'display_data';\n",
              "        await google.colab.output.renderOutput(dataTable, element);\n",
              "        const docLink = document.createElement('div');\n",
              "        docLink.innerHTML = docLinkHtml;\n",
              "        element.appendChild(docLink);\n",
              "      }\n",
              "    </script>\n",
              "  </div>\n",
              "\n",
              "\n",
              "<div id=\"df-1a3f417b-e8c0-48d7-929c-2af75f45082b\">\n",
              "  <button class=\"colab-df-quickchart\" onclick=\"quickchart('df-1a3f417b-e8c0-48d7-929c-2af75f45082b')\"\n",
              "            title=\"Suggest charts\"\n",
              "            style=\"display:none;\">\n",
              "\n",
              "<svg xmlns=\"http://www.w3.org/2000/svg\" height=\"24px\"viewBox=\"0 0 24 24\"\n",
              "     width=\"24px\">\n",
              "    <g>\n",
              "        <path d=\"M19 3H5c-1.1 0-2 .9-2 2v14c0 1.1.9 2 2 2h14c1.1 0 2-.9 2-2V5c0-1.1-.9-2-2-2zM9 17H7v-7h2v7zm4 0h-2V7h2v10zm4 0h-2v-4h2v4z\"/>\n",
              "    </g>\n",
              "</svg>\n",
              "  </button>\n",
              "\n",
              "<style>\n",
              "  .colab-df-quickchart {\n",
              "      --bg-color: #E8F0FE;\n",
              "      --fill-color: #1967D2;\n",
              "      --hover-bg-color: #E2EBFA;\n",
              "      --hover-fill-color: #174EA6;\n",
              "      --disabled-fill-color: #AAA;\n",
              "      --disabled-bg-color: #DDD;\n",
              "  }\n",
              "\n",
              "  [theme=dark] .colab-df-quickchart {\n",
              "      --bg-color: #3B4455;\n",
              "      --fill-color: #D2E3FC;\n",
              "      --hover-bg-color: #434B5C;\n",
              "      --hover-fill-color: #FFFFFF;\n",
              "      --disabled-bg-color: #3B4455;\n",
              "      --disabled-fill-color: #666;\n",
              "  }\n",
              "\n",
              "  .colab-df-quickchart {\n",
              "    background-color: var(--bg-color);\n",
              "    border: none;\n",
              "    border-radius: 50%;\n",
              "    cursor: pointer;\n",
              "    display: none;\n",
              "    fill: var(--fill-color);\n",
              "    height: 32px;\n",
              "    padding: 0;\n",
              "    width: 32px;\n",
              "  }\n",
              "\n",
              "  .colab-df-quickchart:hover {\n",
              "    background-color: var(--hover-bg-color);\n",
              "    box-shadow: 0 1px 2px rgba(60, 64, 67, 0.3), 0 1px 3px 1px rgba(60, 64, 67, 0.15);\n",
              "    fill: var(--button-hover-fill-color);\n",
              "  }\n",
              "\n",
              "  .colab-df-quickchart-complete:disabled,\n",
              "  .colab-df-quickchart-complete:disabled:hover {\n",
              "    background-color: var(--disabled-bg-color);\n",
              "    fill: var(--disabled-fill-color);\n",
              "    box-shadow: none;\n",
              "  }\n",
              "\n",
              "  .colab-df-spinner {\n",
              "    border: 2px solid var(--fill-color);\n",
              "    border-color: transparent;\n",
              "    border-bottom-color: var(--fill-color);\n",
              "    animation:\n",
              "      spin 1s steps(1) infinite;\n",
              "  }\n",
              "\n",
              "  @keyframes spin {\n",
              "    0% {\n",
              "      border-color: transparent;\n",
              "      border-bottom-color: var(--fill-color);\n",
              "      border-left-color: var(--fill-color);\n",
              "    }\n",
              "    20% {\n",
              "      border-color: transparent;\n",
              "      border-left-color: var(--fill-color);\n",
              "      border-top-color: var(--fill-color);\n",
              "    }\n",
              "    30% {\n",
              "      border-color: transparent;\n",
              "      border-left-color: var(--fill-color);\n",
              "      border-top-color: var(--fill-color);\n",
              "      border-right-color: var(--fill-color);\n",
              "    }\n",
              "    40% {\n",
              "      border-color: transparent;\n",
              "      border-right-color: var(--fill-color);\n",
              "      border-top-color: var(--fill-color);\n",
              "    }\n",
              "    60% {\n",
              "      border-color: transparent;\n",
              "      border-right-color: var(--fill-color);\n",
              "    }\n",
              "    80% {\n",
              "      border-color: transparent;\n",
              "      border-right-color: var(--fill-color);\n",
              "      border-bottom-color: var(--fill-color);\n",
              "    }\n",
              "    90% {\n",
              "      border-color: transparent;\n",
              "      border-bottom-color: var(--fill-color);\n",
              "    }\n",
              "  }\n",
              "</style>\n",
              "\n",
              "  <script>\n",
              "    async function quickchart(key) {\n",
              "      const quickchartButtonEl =\n",
              "        document.querySelector('#' + key + ' button');\n",
              "      quickchartButtonEl.disabled = true;  // To prevent multiple clicks.\n",
              "      quickchartButtonEl.classList.add('colab-df-spinner');\n",
              "      try {\n",
              "        const charts = await google.colab.kernel.invokeFunction(\n",
              "            'suggestCharts', [key], {});\n",
              "      } catch (error) {\n",
              "        console.error('Error during call to suggestCharts:', error);\n",
              "      }\n",
              "      quickchartButtonEl.classList.remove('colab-df-spinner');\n",
              "      quickchartButtonEl.classList.add('colab-df-quickchart-complete');\n",
              "    }\n",
              "    (() => {\n",
              "      let quickchartButtonEl =\n",
              "        document.querySelector('#df-1a3f417b-e8c0-48d7-929c-2af75f45082b button');\n",
              "      quickchartButtonEl.style.display =\n",
              "        google.colab.kernel.accessAllowed ? 'block' : 'none';\n",
              "    })();\n",
              "  </script>\n",
              "</div>\n",
              "\n",
              "    </div>\n",
              "  </div>\n"
            ],
            "application/vnd.google.colaboratory.intrinsic+json": {
              "type": "dataframe",
              "variable_name": "df",
              "summary": "{\n  \"name\": \"df\",\n  \"rows\": 1000,\n  \"fields\": [\n    {\n      \"column\": \"Region\",\n      \"properties\": {\n        \"dtype\": \"category\",\n        \"num_unique_values\": 4,\n        \"samples\": [\n          \"West\",\n          \"South\",\n          \"East\"\n        ],\n        \"semantic_type\": \"\",\n        \"description\": \"\"\n      }\n    },\n    {\n      \"column\": \"Temperature\",\n      \"properties\": {\n        \"dtype\": \"number\",\n        \"std\": 4.979438485107374,\n        \"min\": 8.065931192558502,\n        \"max\": 42.4793889480005,\n        \"num_unique_values\": 1000,\n        \"samples\": [\n          20.50569696520704,\n          28.24044182330205,\n          23.2057679154354\n        ],\n        \"semantic_type\": \"\",\n        \"description\": \"\"\n      }\n    },\n    {\n      \"column\": \"Rainfall\",\n      \"properties\": {\n        \"dtype\": \"number\",\n        \"std\": 199.53759507402526,\n        \"min\": -167.9000356508484,\n        \"max\": 1084.1505131771762,\n        \"num_unique_values\": 1000,\n        \"samples\": [\n          537.2975907933901,\n          304.2381578401878,\n          588.4158073602016\n        ],\n        \"semantic_type\": \"\",\n        \"description\": \"\"\n      }\n    },\n    {\n      \"column\": \"Soil_Type\",\n      \"properties\": {\n        \"dtype\": \"category\",\n        \"num_unique_values\": 3,\n        \"samples\": [\n          \"Clayey\",\n          \"Sandy\",\n          \"Loamy\"\n        ],\n        \"semantic_type\": \"\",\n        \"description\": \"\"\n      }\n    },\n    {\n      \"column\": \"Fertilizer_Usage\",\n      \"properties\": {\n        \"dtype\": \"number\",\n        \"std\": 71.69783026591611,\n        \"min\": 50.519129400020304,\n        \"max\": 299.76237452591124,\n        \"num_unique_values\": 1000,\n        \"samples\": [\n          69.90126924812641,\n          75.63229955695034,\n          228.9339816026988\n        ],\n        \"semantic_type\": \"\",\n        \"description\": \"\"\n      }\n    },\n    {\n      \"column\": \"Pesticide_Usage\",\n      \"properties\": {\n        \"dtype\": \"number\",\n        \"std\": 11.478613864976483,\n        \"min\": 10.025100665138249,\n        \"max\": 49.99396977945601,\n        \"num_unique_values\": 1000,\n        \"samples\": [\n          20.644318246771967,\n          30.805393911387394,\n          42.74372921492432\n        ],\n        \"semantic_type\": \"\",\n        \"description\": \"\"\n      }\n    },\n    {\n      \"column\": \"Irrigation\",\n      \"properties\": {\n        \"dtype\": \"number\",\n        \"std\": 0,\n        \"min\": 0,\n        \"max\": 1,\n        \"num_unique_values\": 2,\n        \"samples\": [\n          0,\n          1\n        ],\n        \"semantic_type\": \"\",\n        \"description\": \"\"\n      }\n    },\n    {\n      \"column\": \"Crop_Variety\",\n      \"properties\": {\n        \"dtype\": \"category\",\n        \"num_unique_values\": 3,\n        \"samples\": [\n          \"Variety B\",\n          \"Variety A\"\n        ],\n        \"semantic_type\": \"\",\n        \"description\": \"\"\n      }\n    },\n    {\n      \"column\": \"Yield\",\n      \"properties\": {\n        \"dtype\": \"number\",\n        \"std\": 10.181350638638046,\n        \"min\": -8.426900494163363,\n        \"max\": 54.415047077393766,\n        \"num_unique_values\": 1000,\n        \"samples\": [\n          30.293003738439257,\n          18.196936511621285\n        ],\n        \"semantic_type\": \"\",\n        \"description\": \"\"\n      }\n    }\n  ]\n}"
            }
          },
          "metadata": {},
          "execution_count": 2
        }
      ],
      "source": [
        "# Load dataset\n",
        "df= pd.read_csv(\"https://raw.githubusercontent.com/Explore-AI/Public-Data/master/Data/Python/Crop_yield.csv\")\n",
        "df.head(5)"
      ]
    },
    {
      "cell_type": "markdown",
      "metadata": {
        "id": "UcJGeTMop_w7"
      },
      "source": [
        "### Preparing the dataset\n",
        "\n",
        "In the code below, we prepare our dataset for modelling by encoding categorical variables to convert them to a numeric format."
      ]
    },
    {
      "cell_type": "code",
      "execution_count": 3,
      "metadata": {
        "id": "WfFHAs9rp_w8"
      },
      "outputs": [],
      "source": [
        "# Dummy Variable Encoding for categorical variables\n",
        "df_encoded = pd.get_dummies(df, drop_first=True)"
      ]
    },
    {
      "cell_type": "markdown",
      "metadata": {
        "id": "3PMV-17jp_xD"
      },
      "source": [
        "### Training Model"
      ]
    },
    {
      "cell_type": "code",
      "execution_count": 4,
      "metadata": {
        "id": "TEXwitmlp_xE"
      },
      "outputs": [],
      "source": [
        "def train_rf_model(data, target_variable, n_estimators):\n",
        "\n",
        "    # Splitting the dataset into features and target variable\n",
        "    X = data.drop(target_variable, axis=1)  # Features\n",
        "    y = data[target_variable]  # Target variable\n",
        "\n",
        "    # Splitting the dataset into training and testing sets\n",
        "    X_train, X_test, y_train, y_test = train_test_split(X, y, test_size=0.2, random_state=42)\n",
        "\n",
        "    # Initializing the RandomForestRegressor with n_estimators\n",
        "    rf_model = RandomForestRegressor(n_estimators=n_estimators, random_state=42)\n",
        "\n",
        "    # Training the model on the training set\n",
        "    rf_model.fit(X_train, y_train)\n",
        "\n",
        "    # Making predictions on the test set\n",
        "    y_pred = rf_model.predict(X_test)\n",
        "\n",
        "    # Evaluating the model\n",
        "    mse = metrics.mean_squared_error(y_test, y_pred)  # Setting squared=False returns the RMSE\n",
        "    r2 = metrics.r2_score(y_test, y_pred)\n",
        "\n",
        "    # Return the trained model and its performance metrics\n",
        "    return rf_model, {'MSE': mse, 'R2': r2}\n"
      ]
    },
    {
      "cell_type": "markdown",
      "metadata": {
        "id": "iPAETppSp_xF"
      },
      "source": [
        "The function `train_rf_model` is designed to train and evaluate a random forest regression model.\n",
        "\n",
        "It takes three parameters: `data`, `target_variable`, and `n_estimators`.\n",
        "\n",
        "The function returns two items: the trained random forest model `rf_model` and a dictionary containing the evaluation metrics, `mse` and `r2`."
      ]
    },
    {
      "cell_type": "markdown",
      "metadata": {
        "id": "xev7SYyQp_xF"
      },
      "source": [
        "### Hyperparamerer Tuning"
      ]
    },
    {
      "cell_type": "code",
      "execution_count": 5,
      "metadata": {
        "colab": {
          "base_uri": "https://localhost:8080/"
        },
        "id": "AN9L7G8Zp_xG",
        "outputId": "2ad2d058-6c07-4ebe-9a95-6df179738de8"
      },
      "outputs": [
        {
          "output_type": "execute_result",
          "data": {
            "text/plain": [
              "{'50 trees': {'MSE': 0.739261264251345, 'R2': 0.9920180175887953},\n",
              " '100 trees': {'MSE': 0.7288864859605081, 'R2': 0.9921300365756436},\n",
              " '200 trees': {'MSE': 0.7200078994393476, 'R2': 0.9922259008186051}}"
            ]
          },
          "metadata": {},
          "execution_count": 5
        }
      ],
      "source": [
        "# Number of estimators to evaluate\n",
        "estimators_list = [50, 100, 200]\n",
        "\n",
        "# Dictionary to store results\n",
        "results = {}\n",
        "\n",
        "# Train and evaluate models with different numbers of estimators\n",
        "for n in estimators_list:\n",
        "    # Store the entire returned dictionary as the value for each key\n",
        "    model, metric = train_rf_model(df_encoded, 'Yield', n)\n",
        "    results[f\"{n} trees\"] = metric\n",
        "\n",
        "results"
      ]
    },
    {
      "cell_type": "markdown",
      "metadata": {
        "id": "TLgJX2yap_xH"
      },
      "source": [
        "In the code above, we use the previously created function to train and evaluate multiple random forest models, each with a different number of trees (estimators).\n",
        "\n",
        "The for loop iterates over each value in `estimators_list`, where it calls the `train_rf_model()` function, passing the required parameters including the current number of estimators `n` as arguments.\n",
        "\n",
        "The two items returned by the function are stored in separate variables, `model` and `metric`.\n",
        "\n",
        "The `results` dictionary is then used to store the evaluation metrics for each model trained with a different number of trees. The keys are strings indicating the number of trees, and the values are the dictionary of metrics returned by the function."
      ]
    },
    {
      "cell_type": "markdown",
      "metadata": {
        "id": "NIm8n3kBp_xH"
      },
      "source": [
        "### Important Features"
      ]
    },
    {
      "cell_type": "code",
      "execution_count": 6,
      "metadata": {
        "colab": {
          "base_uri": "https://localhost:8080/",
          "height": 460
        },
        "id": "60YcXZYDp_xI",
        "outputId": "ed26ade2-f3ca-4b63-f28c-89814868ce14"
      },
      "outputs": [
        {
          "output_type": "execute_result",
          "data": {
            "text/plain": [
              "Rainfall                  0.978910\n",
              "Fertilizer_Usage          0.016670\n",
              "Temperature               0.001971\n",
              "Pesticide_Usage           0.001102\n",
              "Irrigation                0.000251\n",
              "Crop_Variety_Variety B    0.000202\n",
              "Region_West               0.000194\n",
              "Soil_Type_Loamy           0.000161\n",
              "Soil_Type_Sandy           0.000158\n",
              "Crop_Variety_Variety C    0.000143\n",
              "Region_North              0.000120\n",
              "Region_South              0.000118\n",
              "dtype: float64"
            ],
            "text/html": [
              "<div>\n",
              "<style scoped>\n",
              "    .dataframe tbody tr th:only-of-type {\n",
              "        vertical-align: middle;\n",
              "    }\n",
              "\n",
              "    .dataframe tbody tr th {\n",
              "        vertical-align: top;\n",
              "    }\n",
              "\n",
              "    .dataframe thead th {\n",
              "        text-align: right;\n",
              "    }\n",
              "</style>\n",
              "<table border=\"1\" class=\"dataframe\">\n",
              "  <thead>\n",
              "    <tr style=\"text-align: right;\">\n",
              "      <th></th>\n",
              "      <th>0</th>\n",
              "    </tr>\n",
              "  </thead>\n",
              "  <tbody>\n",
              "    <tr>\n",
              "      <th>Rainfall</th>\n",
              "      <td>0.978910</td>\n",
              "    </tr>\n",
              "    <tr>\n",
              "      <th>Fertilizer_Usage</th>\n",
              "      <td>0.016670</td>\n",
              "    </tr>\n",
              "    <tr>\n",
              "      <th>Temperature</th>\n",
              "      <td>0.001971</td>\n",
              "    </tr>\n",
              "    <tr>\n",
              "      <th>Pesticide_Usage</th>\n",
              "      <td>0.001102</td>\n",
              "    </tr>\n",
              "    <tr>\n",
              "      <th>Irrigation</th>\n",
              "      <td>0.000251</td>\n",
              "    </tr>\n",
              "    <tr>\n",
              "      <th>Crop_Variety_Variety B</th>\n",
              "      <td>0.000202</td>\n",
              "    </tr>\n",
              "    <tr>\n",
              "      <th>Region_West</th>\n",
              "      <td>0.000194</td>\n",
              "    </tr>\n",
              "    <tr>\n",
              "      <th>Soil_Type_Loamy</th>\n",
              "      <td>0.000161</td>\n",
              "    </tr>\n",
              "    <tr>\n",
              "      <th>Soil_Type_Sandy</th>\n",
              "      <td>0.000158</td>\n",
              "    </tr>\n",
              "    <tr>\n",
              "      <th>Crop_Variety_Variety C</th>\n",
              "      <td>0.000143</td>\n",
              "    </tr>\n",
              "    <tr>\n",
              "      <th>Region_North</th>\n",
              "      <td>0.000120</td>\n",
              "    </tr>\n",
              "    <tr>\n",
              "      <th>Region_South</th>\n",
              "      <td>0.000118</td>\n",
              "    </tr>\n",
              "  </tbody>\n",
              "</table>\n",
              "</div><br><label><b>dtype:</b> float64</label>"
            ]
          },
          "metadata": {},
          "execution_count": 6
        }
      ],
      "source": [
        "# Extract feature importances from the model\n",
        "feature_importances = model.feature_importances_\n",
        "\n",
        "# Get the names of the features, excluding the target variable 'Yield'\n",
        "feature_names =df_encoded.drop('Yield', axis=1).columns\n",
        "\n",
        "# Create a Pandas series\n",
        "importances = pd.Series(feature_importances, index=feature_names)\n",
        "\n",
        "# Sort the feature importances in descending order\n",
        "sorted_importances = importances.sort_values(ascending=False)\n",
        "sorted_importances"
      ]
    },
    {
      "cell_type": "markdown",
      "metadata": {
        "id": "D2p7JAMHp_xK"
      },
      "source": [
        "In the code above, we use the `feature_importances_` attribute of the trained random forest model to extract the importance scores for each feature.\n",
        "\n",
        "The variable `feature_names` stores the list of feature names that were used to train the model. This will be used for mapping each importance score to its corresponding feature name.\n",
        "\n",
        "`importances` is a Pandas series object where each feature's importance score is associated with its name.\n",
        "\n",
        "In `sorted_importances`, we get the importances sorted in descending order to get a quick view of the features considered most important by the model."
      ]
    },
    {
      "cell_type": "markdown",
      "metadata": {
        "id": "BDEt1ty3p_xL"
      },
      "source": [
        "> Which top two features contribute the most to the model's predictive ability?\n",
        "\n",
        "Understanding feature importance and the contribution of each variable to the model's predictions offers us an opportunity to streamline our models. This understanding enables us to focus on the most influential features, thereby reducing model complexity without significantly sacrificing performance."
      ]
    }
  ],
  "metadata": {
    "colab": {
      "provenance": [],
      "toc_visible": true
    },
    "interpreter": {
      "hash": "6b5ebbc2c6bde2831bc6c0426f75aca8137ccfc69d329557556ed73faee126ae"
    },
    "kernelspec": {
      "display_name": "Python 3 (ipykernel)",
      "language": "python",
      "name": "python3"
    },
    "language_info": {
      "codemirror_mode": {
        "name": "ipython",
        "version": 3
      },
      "file_extension": ".py",
      "mimetype": "text/x-python",
      "name": "python",
      "nbconvert_exporter": "python",
      "pygments_lexer": "ipython3",
      "version": "3.11.4"
    }
  },
  "nbformat": 4,
  "nbformat_minor": 0
}